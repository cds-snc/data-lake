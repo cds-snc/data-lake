{
 "cells": [
  {
   "cell_type": "code",
   "execution_count": null,
   "id": "8b91a81b-7d03-43ee-8539-37129b3e3bad",
   "metadata": {},
   "outputs": [],
   "source": [
    "import pandas as pd\n",
    "import os\n",
    "import glob\n",
    "\n",
    "# Set your folder INPUT path here\n",
    "folder_paths = [\"cloudfront-top-referrers-history\",\"cloudfront-popular-objects-history\"]\n",
    "\n",
    "output_folder_path = \"cloudfront-historical-data\"\n",
    "\n",
    "for folder_path in folder_paths: \n",
    "    files = glob.glob(os.path.join(folder_path, \"*.csv\")) + glob.glob(os.path.join(folder_path, \"*.xlsx\"))\n",
    "    print(f\"Found {len(files)} files to process\")\n",
    "    \n",
    "    for file_path in files:\n",
    "        print(f\"\\nProcessing: {os.path.basename(file_path)}\")\n",
    "        \n",
    "        try:\n",
    "            # Read first few rows to get metadata (rows 2-5, which are indices 1-4)\n",
    "            if file_path.endswith('.xlsx'):\n",
    "                meta_df = pd.read_excel(file_path, header=None, nrows=6)\n",
    "            else:\n",
    "                meta_df = pd.read_csv(file_path, header=None, nrows=6)\n",
    "            \n",
    "            # Extract metadata from rows 2-5\n",
    "            metadata = {}\n",
    "            for i in range(1, 5):  # rows 2-5 (indices 1-4)\n",
    "                if i < len(meta_df):\n",
    "                    key = str(meta_df.iloc[i, 0]) if pd.notna(meta_df.iloc[i, 0]) else f\"field_{i}\"\n",
    "                    value = str(meta_df.iloc[i, 1]) if len(meta_df.columns) > 1 and pd.notna(meta_df.iloc[i, 1]) else \"\"\n",
    "                    metadata[key] = value\n",
    "            \n",
    "            print(f\"Metadata: {metadata}\")\n",
    "            \n",
    "            # Read the actual data starting from row 7 (skiprows=6)\n",
    "            if file_path.endswith('.xlsx'):\n",
    "                df = pd.read_excel(file_path, skiprows=7)\n",
    "            else:\n",
    "                df = pd.read_csv(file_path, skiprows=7)\n",
    "            \n",
    "            # Clean column names\n",
    "            df.columns = df.columns.str.strip().str.replace('\"', '')\n",
    "            \n",
    "            # Add metadata columns\n",
    "            for key, value in metadata.items():\n",
    "                df[key] = value\n",
    "            \n",
    "            # Save as Parquet\n",
    "            output_filename = os.path.splitext(os.path.basename(file_path))[0] + \".parquet\"\n",
    "            output_path = os.path.join(output_folder_path, folder_path)\n",
    "            os.makedirs(output_path, exist_ok=True)\n",
    "            output_path = os.path.join(output_path, output_filename)\n",
    "            \n",
    "            df.to_parquet(output_path, index=False)\n",
    "            \n",
    "            print(f\"Saved {len(df)} rows to {output_filename}\")\n",
    "            \n",
    "        except Exception as e:\n",
    "            print(f\"Error processing {file_path}: {e}\")\n",
    "\n",
    "print(\"\\nDone!\")"
   ]
  },
  {
   "cell_type": "markdown",
   "id": "eec64db6-2d29-4326-af82-3ea825577a79",
   "metadata": {},
   "source": [
    "## Testing"
   ]
  },
  {
   "cell_type": "code",
   "execution_count": null,
   "id": "e993d3d9-aed1-4b7b-ba03-9d234413c7ae",
   "metadata": {},
   "outputs": [],
   "source": [
    "for folder_path in folder_paths: \n",
    "    parquet_folder = f\"{output_folder_path}/{folder_path}\"\n",
    "    parquet_files = glob.glob(os.path.join(parquet_folder, \"*.parquet\"))\n",
    "    \n",
    "    print(f\"Found {len(parquet_files)} parquet files\")\n",
    "    \n",
    "    # Read and combine all parquet files\n",
    "    all_dfs = []\n",
    "    for file_path in parquet_files:\n",
    "        df = pd.read_parquet(file_path)\n",
    "        print(f\"Loaded {os.path.basename(file_path)}: {len(df)} rows, {len(df.columns)} columns\")\n",
    "        all_dfs.append(df)\n",
    "    \n",
    "    # Combine into single dataframe\n",
    "    combined_df = pd.concat(all_dfs, ignore_index=True)\n",
    "    display(combined_df)"
   ]
  },
  {
   "cell_type": "code",
   "execution_count": null,
   "id": "2b72dd90-b537-4cc1-97ca-66464ddedd70",
   "metadata": {},
   "outputs": [],
   "source": []
  }
 ],
 "metadata": {
  "kernelspec": {
   "display_name": "Python 3 (ipykernel)",
   "language": "python",
   "name": "python3"
  },
  "language_info": {
   "codemirror_mode": {
    "name": "ipython",
    "version": 3
   },
   "file_extension": ".py",
   "mimetype": "text/x-python",
   "name": "python",
   "nbconvert_exporter": "python",
   "pygments_lexer": "ipython3",
   "version": "3.12.7"
  }
 },
 "nbformat": 4,
 "nbformat_minor": 5
}
